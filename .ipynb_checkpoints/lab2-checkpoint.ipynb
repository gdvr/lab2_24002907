{
 "cells": [
  {
   "cell_type": "markdown",
   "id": "f8024aaa-052e-4e38-b969-7a56fad22c65",
   "metadata": {
    "jp-MarkdownHeadingCollapsed": true,
    "tags": []
   },
   "source": [
    "# Ejercicio 1"
   ]
  },
  {
   "cell_type": "code",
   "execution_count": 34,
   "id": "f575e2cd-6ae1-4d1a-9625-a35e0065e0a7",
   "metadata": {
    "tags": []
   },
   "outputs": [
    {
     "name": "stdin",
     "output_type": "stream",
     "text": [
      "Ingrese los segundos: 100000\n"
     ]
    },
    {
     "name": "stdout",
     "output_type": "stream",
     "text": [
      "Horas: 27, Minutos: 46, Segundos 40\n"
     ]
    }
   ],
   "source": [
    "def convertirSegundos():    \n",
    "    try:\n",
    "        valor = int(input('Ingrese los segundos:'))\n",
    "        horas = 0\n",
    "        minutos = 0\n",
    "        segundos = 0\n",
    "\n",
    "        if(valor < 0):\n",
    "            print('No es posible realizar el calculo con numero negativos')            \n",
    "        else:\n",
    "            if(valor < 60):\n",
    "                segundos = valor\n",
    "            if(valor > 60 and valor < 3600):\n",
    "                minutos = int(valor/60)\n",
    "                segundos = valor - (minutos*60)\n",
    "            else:\n",
    "                horas = int(valor/3600)\n",
    "                minutos = int((valor - (horas*3600))/60)                \n",
    "                segundos = (valor - (horas*3600)) - (minutos*60)\n",
    "            print(f\"Horas: {horas}, Minutos: {minutos}, Segundos {segundos}\")\n",
    "            \n",
    "    except  ValueError:\n",
    "        print(\"Error - Ingreso valor erroneo\")\n",
    "\n",
    "convertirSegundos()"
   ]
  },
  {
   "cell_type": "markdown",
   "id": "ca311dab-bf93-46ee-9f45-4c548d23c1b9",
   "metadata": {
    "jp-MarkdownHeadingCollapsed": true,
    "tags": []
   },
   "source": [
    "# Ejercicio 2"
   ]
  },
  {
   "cell_type": "code",
   "execution_count": 42,
   "id": "6580bb77-b33a-41ca-8e2a-05bc4d12bec1",
   "metadata": {
    "tags": []
   },
   "outputs": [
    {
     "name": "stdin",
     "output_type": "stream",
     "text": [
      "Ingrese un numero [1-20]: 10\n",
      "Ingrese un caracter *\n"
     ]
    },
    {
     "name": "stdout",
     "output_type": "stream",
     "text": [
      "*          **********          **********               *\n",
      "**          *********          *********                **\n",
      "***          ********          ********                 ***\n",
      "****          *******          *******                  ****\n",
      "*****          ******          ******                   *****\n",
      "******          *****              *****               ******\n",
      "*******          ****              ****              *******\n",
      "********          ***              ***             ********\n",
      "*********          **              **            *********\n",
      "**********          *              *           **********\n"
     ]
    }
   ],
   "source": [
    "def dibujarPatron():\n",
    "    try:\n",
    "        valor = int(input('Ingrese un numero [1-20]:'))        \n",
    "        if(valor < 0 or valor > 20):\n",
    "            print('No se aceptan numeros fuera del rango del 1 al 20')\n",
    "            return\n",
    "        \n",
    "        caracter =str(input('Ingrese un caracter'))        \n",
    "        if(len(caracter) > 1):\n",
    "            print('Solo se admite el uso de un caracter')\n",
    "            return\n",
    "        \n",
    "        #patron 1\n",
    "        for i in range(valor):\n",
    "            patron_1 = caracter*(i+1)\n",
    "            patron_2 = f\"{' '*i}{caracter*(valor-i)}\"\n",
    "            if(i < int(valor/2)):\n",
    "                patron_3 =f\"{caracter*(valor-i)}{' '*i}\"\n",
    "            else:\n",
    "                patron_3 =f\"{' '*(int(valor/2) -1)}{caracter*(valor-i)}\"\n",
    "            \n",
    "            if(i < int(valor/2)):\n",
    "                patron_4 =f\"{' '*(int(valor/2))}{caracter*(i+1)}\"\n",
    "            else:\n",
    "                patron_4 =f\"{' '*(valor-i)}{caracter*(i+1)}\"\n",
    "            print(f\"{patron_1}{' ' * (valor-i)}{patron_2}{' ' * (valor)}{patron_3}{' ' * (valor)}{patron_4}\")\n",
    "        \n",
    "        \n",
    "    except ValueError:\n",
    "        print(\"Error - Ingreso valor erroneo\")\n",
    "\n",
    "dibujarPatron()"
   ]
  },
  {
   "cell_type": "markdown",
   "id": "0856376b-e690-410c-a5ad-be96b291f508",
   "metadata": {
    "jp-MarkdownHeadingCollapsed": true,
    "tags": []
   },
   "source": [
    "# Ejercicio 3"
   ]
  },
  {
   "cell_type": "code",
   "execution_count": 76,
   "id": "1fdf72ea-ad11-42f3-9865-0a63f9b57a34",
   "metadata": {
    "tags": []
   },
   "outputs": [
    {
     "name": "stdin",
     "output_type": "stream",
     "text": [
      "Ingrese su año de nacimiento: 1993\n",
      "Ingrese su mes de nacimiento: 0\n",
      "Ingrese su dia de nacimiento: 1\n"
     ]
    },
    {
     "name": "stdout",
     "output_type": "stream",
     "text": [
      "Error - Ingreso valor erroneo\n"
     ]
    }
   ],
   "source": [
    "from datetime import date\n",
    "\n",
    "def calcularEdad():\n",
    "    try:\n",
    "        anio = int(input('Ingrese su año de nacimiento:'))             \n",
    "        mes = int(input('Ingrese su mes de nacimiento:'))\n",
    "        dia = int(input('Ingrese su dia de nacimiento:'))\n",
    "        \n",
    "        if(anio < 0 or mes < 0 or dia < 0):\n",
    "            print(\"Ingreso un valor negativo, favor de corregirlo\")\n",
    "        \n",
    "        d1 = date(anio, mes,dia)\n",
    "        d2 = date.today()\n",
    "        \n",
    "        delta = d2 - d1\n",
    "        dias = delta.days\n",
    "        anios = 0\n",
    "        meses = 0\n",
    "        \n",
    "        if(dias <= 30):\n",
    "            meses = int(dias/30)\n",
    "            dias = dias - (meses*30)\n",
    "        if(dias > 30):\n",
    "            anios = int(dias/365)\n",
    "            meses = int((dias - (anios*365))/30)\n",
    "            dias = dias - (anios*365) - (meses*30)\n",
    "            \n",
    "        print(f\"Años: {anios}, Meses: {meses}, dias: {dias}\")\n",
    "    except ValueError:\n",
    "        print(\"Error - Ingreso valor erroneo\")\n",
    "\n",
    "calcularEdad()"
   ]
  },
  {
   "cell_type": "markdown",
   "id": "6e3cd9c0-39e9-4d7c-9385-de936824c13a",
   "metadata": {
    "jp-MarkdownHeadingCollapsed": true,
    "tags": []
   },
   "source": [
    "# Ejercicio 4"
   ]
  },
  {
   "cell_type": "code",
   "execution_count": 62,
   "id": "e6c7dfe0-eb19-48c9-bea9-5b989593040d",
   "metadata": {
    "tags": []
   },
   "outputs": [
    {
     "name": "stdout",
     "output_type": "stream",
     "text": [
      "daniel\n",
      "102040570\n"
     ]
    }
   ],
   "source": [
    "def convertirTuplaToStr(tupla):\n",
    "    tupla_str = tuple([str(x) for x in tupla ])\n",
    "    return ''.join(tupla_str)\n",
    "\n",
    "print(convertirTuplaToStr(('d', 'a', 'n', 'i', 'e','l')))\n",
    "print(convertirTuplaToStr((10, 20, 40, 5, 70)))"
   ]
  },
  {
   "cell_type": "markdown",
   "id": "d4b841fe-9c57-445f-b3c2-f81105188a9d",
   "metadata": {
    "jp-MarkdownHeadingCollapsed": true,
    "tags": []
   },
   "source": [
    "# Ejercicio 5"
   ]
  },
  {
   "cell_type": "code",
   "execution_count": 67,
   "id": "2b333b81-11a3-446b-bac4-51186c2a0ef0",
   "metadata": {
    "tags": []
   },
   "outputs": [
    {
     "data": {
      "text/plain": [
       "['X', ('a', 'b'), ('a', 'b', 'c'), 'd']"
      ]
     },
     "execution_count": 67,
     "metadata": {},
     "output_type": "execute_result"
    }
   ],
   "source": [
    "def limpiarTuplas(tuplas):\n",
    "    return list(filter(None, tuplas))    \n",
    "    \n",
    "limpiarTuplas([(), (), ('X'), ('a', 'b'), ('a', 'b', 'c'), ('d')])"
   ]
  },
  {
   "cell_type": "markdown",
   "id": "903187ec-ef97-4cc3-9b55-a80719ecf80f",
   "metadata": {
    "jp-MarkdownHeadingCollapsed": true,
    "tags": []
   },
   "source": [
    "# Ejercicio 6"
   ]
  },
  {
   "cell_type": "code",
   "execution_count": 74,
   "id": "eb307586-2d34-4a19-9779-c315c5ea1334",
   "metadata": {
    "tags": []
   },
   "outputs": [
    {
     "data": {
      "text/plain": [
       "(10.5, 44.0, 58.0)"
      ]
     },
     "execution_count": 74,
     "metadata": {},
     "output_type": "execute_result"
    }
   ],
   "source": [
    "def promedioTuplas(tuplas):\n",
    "    result = tuple([sum([el for el in x])/len(x) for x in tuplas ])\n",
    "    return result\n",
    "\n",
    "promedioTuplas(((10, 10, 10, 12), (30, 45, 56, 45), (81, 80, 39, 32)))"
   ]
  },
  {
   "cell_type": "markdown",
   "id": "143fd844-ca35-4282-b65d-2e129e980ac8",
   "metadata": {
    "jp-MarkdownHeadingCollapsed": true,
    "tags": []
   },
   "source": [
    "# Ejercicio 7"
   ]
  },
  {
   "cell_type": "code",
   "execution_count": 18,
   "id": "db8c69d0-9b99-4263-b068-b181b1379cab",
   "metadata": {
    "tags": []
   },
   "outputs": [
    {
     "name": "stdout",
     "output_type": "stream",
     "text": [
      "******************************************\n",
      "***********Gestion Facturas **************\n",
      "1) Ingresar una nueva factura\n",
      "2) Pagar una factura\n",
      "0) Salir\n"
     ]
    },
    {
     "name": "stdin",
     "output_type": "stream",
     "text": [
      "Ingrese una opcion:  a\n"
     ]
    },
    {
     "name": "stdout",
     "output_type": "stream",
     "text": [
      "Error - Ingreso valor erroneo\n",
      "******************************************\n",
      "***********Gestion Facturas **************\n",
      "1) Ingresar una nueva factura\n",
      "2) Pagar una factura\n",
      "0) Salir\n"
     ]
    },
    {
     "name": "stdin",
     "output_type": "stream",
     "text": [
      "Ingrese una opcion:  a\n"
     ]
    },
    {
     "name": "stdout",
     "output_type": "stream",
     "text": [
      "Error - Ingreso valor erroneo\n",
      "******************************************\n",
      "***********Gestion Facturas **************\n",
      "1) Ingresar una nueva factura\n",
      "2) Pagar una factura\n",
      "0) Salir\n"
     ]
    },
    {
     "name": "stdin",
     "output_type": "stream",
     "text": [
      "Ingrese una opcion:  1\n",
      "Ingrese numero de factura 1414\n",
      "Ingrese el monto de la factura 50000\n"
     ]
    },
    {
     "name": "stdout",
     "output_type": "stream",
     "text": [
      "\n",
      " ********** Saldos actuales ********** \n",
      "\n",
      "Cantidad pendiente de cobro: 64798, cantidad cobrada: 0\n",
      "******************************************\n",
      "***********Gestion Facturas **************\n",
      "1) Ingresar una nueva factura\n",
      "2) Pagar una factura\n",
      "0) Salir\n"
     ]
    },
    {
     "name": "stdin",
     "output_type": "stream",
     "text": [
      "Ingrese una opcion:  1\n",
      "Ingrese numero de factura 1414\n"
     ]
    },
    {
     "name": "stdout",
     "output_type": "stream",
     "text": [
      "La factura con numero 1414 ya existe\n",
      "\n",
      " ********** Saldos actuales ********** \n",
      "\n",
      "Cantidad pendiente de cobro: 64798, cantidad cobrada: 0\n",
      "******************************************\n",
      "***********Gestion Facturas **************\n",
      "1) Ingresar una nueva factura\n",
      "2) Pagar una factura\n",
      "0) Salir\n"
     ]
    },
    {
     "name": "stdin",
     "output_type": "stream",
     "text": [
      "Ingrese una opcion:  2\n",
      "Ingrese numero de factura 1414\n"
     ]
    },
    {
     "name": "stdout",
     "output_type": "stream",
     "text": [
      "\n",
      " ********** Saldos actuales ********** \n",
      "\n",
      "Cantidad pendiente de cobro: 14798, cantidad cobrada: 50000\n",
      "******************************************\n",
      "***********Gestion Facturas **************\n",
      "1) Ingresar una nueva factura\n",
      "2) Pagar una factura\n",
      "0) Salir\n"
     ]
    },
    {
     "name": "stdin",
     "output_type": "stream",
     "text": [
      "Ingrese una opcion:  0\n"
     ]
    },
    {
     "name": "stdout",
     "output_type": "stream",
     "text": [
      "\n",
      " ********** Saldos actuales ********** \n",
      "\n",
      "Cantidad pendiente de cobro: 14798, cantidad cobrada: 50000\n"
     ]
    }
   ],
   "source": [
    "facturas  = {1234: 1000, 2000:12563, 3000: 1235}\n",
    "facturas_cobradas = {}\n",
    "\n",
    "def gestionarFacturas():    \n",
    "    opcion = -1\n",
    "   \n",
    "    \n",
    "    while(opcion != 0):\n",
    "        print(\"******************************************\")\n",
    "        print(\"***********Gestion Facturas **************\")\n",
    "        print(\"1) Ingresar una nueva factura\")\n",
    "        print(\"2) Pagar una factura\")\n",
    "        print(\"0) Salir\")\n",
    "        try:            \n",
    "            opcion = int(input(\"Ingrese una opcion: \"))\n",
    "\n",
    "            if(opcion < 0 or opcion > 2):\n",
    "                print(\"Opcion fuera de rango\")\n",
    "                continue\n",
    "\n",
    "\n",
    "            if(opcion == 2):\n",
    "                cobrarFactura()          \n",
    "            elif (opcion == 1):\n",
    "                agregarFactura()\n",
    "\n",
    "            cantidad_pendiente = obtenerTotal()\n",
    "            cantidad_cobrada = obtenerTotalCobrada()\n",
    "            print(\"\\n ********** Saldos actuales ********** \\n\")\n",
    "            print(f\"Cantidad pendiente de cobro: {cantidad_pendiente}, cantidad cobrada: {cantidad_cobrada}\")\n",
    "        except ValueError:\n",
    "             print(\"Error - Ingreso valor erroneo\")\n",
    "            \n",
    "        \n",
    "def cobrarFactura():\n",
    "    no_factura = int(input(\"Ingrese numero de factura\"))\n",
    "    try:        \n",
    "        if(facturas[no_factura] == None):\n",
    "            print(f\"La factura con numero {no_factura} no existe\")\n",
    "            return\n",
    "\n",
    "        removed_value = facturas.pop(no_factura)\n",
    "        facturas_cobradas[no_factura] = removed_value\n",
    "    except KeyError:\n",
    "        print(f\"La factura con numero {no_factura} no existe\")\n",
    "        \n",
    "def agregarFactura():\n",
    "    no_factura = int(input(\"Ingrese numero de factura\"))\n",
    "    try:        \n",
    "        if(no_factura in facturas.keys()):\n",
    "            print(f\"La factura con numero {no_factura} ya existe\")\n",
    "            return\n",
    "        monto = int(input(\"Ingrese el monto de la factura\"))\n",
    "        facturas[no_factura] = monto\n",
    "    except KeyError:\n",
    "        print(f\"Error al ingresar la factura {no_factura}\")\n",
    "   \n",
    "    \n",
    "        \n",
    "\n",
    "def obtenerTotal():\n",
    "    return sum([v for k,v in facturas.items()])\n",
    "    \n",
    "def obtenerTotalCobrada():\n",
    "    return sum([v for k,v in facturas_cobradas.items()])\n",
    "\n",
    "gestionarFacturas()"
   ]
  },
  {
   "cell_type": "markdown",
   "id": "738fba8a-8230-4faa-a237-02b1f6ec7d6e",
   "metadata": {
    "jp-MarkdownHeadingCollapsed": true,
    "tags": []
   },
   "source": [
    "# Ejercicio 8"
   ]
  },
  {
   "cell_type": "code",
   "execution_count": 2,
   "id": "79306e03-afa7-4150-9626-b1dd60f2a819",
   "metadata": {
    "tags": []
   },
   "outputs": [],
   "source": [
    "import random"
   ]
  },
  {
   "cell_type": "code",
   "execution_count": 13,
   "id": "ca7fc599-35ac-41ab-9d14-d525047f22b9",
   "metadata": {
    "tags": []
   },
   "outputs": [
    {
     "name": "stdout",
     "output_type": "stream",
     "text": [
      "Verificando regla del producto\n",
      "\n",
      "set1={'T03', 'T06', 'E01', 'P03', 'C12', 'C13', 'E10', 'T11', 'C09', 'T13', 'C04', 'E06', 'E09', 'P06', 'P13', 'T04', 'E12', 'C01', 'T09', 'T10'}, total elementos = 20\n",
      "set2={'P07', 'T03', 'C02', 'E01', 'T01', 'C11', 'E13', 'P09', 'C12', 'T02', 'E10', 'C10', 'C09', 'T13', 'C04', 'P10', 'P02', 'T08', 'P06', 'T04', 'P08', 'E12', 'E05', 'T12', 'T09', 'T10', 'C06', 'C07', 'T05', 'P01', 'T07'}, total elementos = 31\n",
      "set1 Ո set2={'E10', 'T03', 'E01', 'P06', 'T09', 'T04', 'T10', 'C09', 'C12', 'T13', 'C04', 'E12'}, total elementos = 12\n",
      "\n",
      "P(set1 Ո set2)=0.23, P(set1) = 0.38,P(set2) = 0.6\n",
      "Los eventos son independientes,  P(set1 Ո set2) =  P(set1) * P(set2),  0.23 != 0.23\n",
      "\n",
      "Verificando regla de la adicion\n",
      "\n",
      "set1={'T03', 'T06', 'E01', 'P03', 'C12', 'C13', 'E10', 'T11', 'C09', 'T13', 'C04', 'E06', 'E09', 'P06', 'P13', 'T04', 'E12', 'C01', 'T09', 'T10'}, total elementos = 20\n",
      "set2={'P07', 'T03', 'C02', 'E01', 'T01', 'C11', 'E13', 'P09', 'C12', 'T02', 'E10', 'C10', 'C09', 'T13', 'C04', 'P10', 'P02', 'T08', 'P06', 'T04', 'P08', 'E12', 'E05', 'T12', 'T09', 'T10', 'C06', 'C07', 'T05', 'P01', 'T07'}, total elementos = 31\n",
      "set1 Ո set2={'E10', 'T03', 'E01', 'P06', 'T09', 'T04', 'T10', 'C09', 'C12', 'T13', 'C04', 'E12'}, total elementos = 12\n",
      "set1 U set2={'P07', 'T03', 'T06', 'C02', 'E01', 'T01', 'P03', 'C11', 'E13', 'P09', 'C12', 'T02', 'C13', 'E10', 'T11', 'C10', 'C09', 'T13', 'C04', 'P10', 'E06', 'P02', 'T08', 'E09', 'P06', 'P13', 'T04', 'P08', 'E12', 'C01', 'E05', 'T12', 'T09', 'T10', 'C06', 'C07', 'T05', 'P01', 'T07'}, total elementos = 39\n",
      "\n",
      "P(set1 U set2)=0.75, P(set1 Ո set2)=0.23 P(set1) = 0.38,P(set2) = 0.6\n",
      "Se cumple la regla de la adicion, P(set1 U set2) =  P(set1) + P(set2) - P(set1 Ո set2), 0.75 = 0.75\n"
     ]
    }
   ],
   "source": [
    "def crearCartas():\n",
    "    tipos = ['T','C','P','E']\n",
    "    numeracion = ['01','02','03','04','05','06','07','08','09','10','11','12','13']\n",
    "    cartas = set({})\n",
    "    for tipo in tipos:\n",
    "        for numero  in numeracion:\n",
    "            cartas.add(f\"{tipo}{numero}\")        \n",
    "    return cartas\n",
    "\n",
    "def crearSubSets(cartas):\n",
    "    set1 = set({})\n",
    "    set2 = set({})\n",
    "    \n",
    "    number_el1 =random.randint(0,len(cartas)) \n",
    "    number_el2 = random.randint(0,len(cartas)) \n",
    "    \n",
    "    indexUse = set({})\n",
    "    for i in range(number_el1):\n",
    "        set1.add(getRandomValue(indexUse, cartas))\n",
    "        \n",
    "    indexUse = set({})\n",
    "    for i in range(number_el2):\n",
    "        set2.add(getRandomValue(indexUse, cartas))\n",
    "    \n",
    "    return set1, set2\n",
    "    \n",
    "def getRandomValue(indexUse, cartas):\n",
    "    element = None\n",
    "    while(True):\n",
    "        cartaIndex =random.randint(0,len(cartas)) -1\n",
    "        carta = list(cartas)[cartaIndex]\n",
    "        if(carta in indexUse):\n",
    "            continue\n",
    "        else:\n",
    "            indexUse.add(carta)\n",
    "            element = carta\n",
    "            break\n",
    "    return element\n",
    "    \n",
    "def validarRegladelProducto(set1,set2,espacio):\n",
    "    print(f\"set1={set1}, total elementos = {len(set1)}\")\n",
    "    print(f\"set2={set2}, total elementos = {len(set2)}\")\n",
    "    interseccion = set1.intersection(set2)\n",
    "    print(f\"set1 Ո set2={interseccion}, total elementos = {len(interseccion)}\")\n",
    "    PInterseccion = round(len(interseccion)/len(espacio),2)\n",
    "    Pset1=round(len(set1)/len(espacio),2)\n",
    "    Pset2=round(len(set2)/len(espacio),2)\n",
    "    \n",
    "    print()\n",
    "    print(f\"P(set1 Ո set2)={PInterseccion}, P(set1) = {Pset1},P(set2) = {Pset2}\")    \n",
    "    if(PInterseccion == round((Pset1 * Pset2),2)):\n",
    "       return f\"Los eventos son independientes,  P(set1 Ո set2) =  P(set1) * P(set2),  {PInterseccion} != {round((Pset1 * Pset2),2)}\"\n",
    "    else:\n",
    "       return f\"Los eventos no son independientes,  P(set1 Ո set2) !=  P(set1) * P(set2),  {PInterseccion} != {round((Pset1 * Pset2),2)}\"\n",
    "\n",
    "def validarRegladelaAdicion(set1,set2,espacio):\n",
    "    print(f\"set1={set1}, total elementos = {len(set1)}\")\n",
    "    print(f\"set2={set2}, total elementos = {len(set2)}\")\n",
    "    interseccion = set1.intersection(set2)\n",
    "    PInterseccion = round(len(interseccion)/len(espacio),2)\n",
    "    print(f\"set1 Ո set2={interseccion}, total elementos = {len(interseccion)}\")\n",
    "    union = set1.union(set2)\n",
    "    print(f\"set1 U set2={union}, total elementos = {len(union)}\")\n",
    "    PUnion = round(len(union)/len(espacio),2)\n",
    "    Pset1=round(len(set1)/len(espacio),2)\n",
    "    Pset2=round(len(set2)/len(espacio),2)\n",
    "    \n",
    "    print()\n",
    "    print(f\"P(set1 U set2)={PUnion}, P(set1 Ո set2)={PInterseccion} P(set1) = {Pset1},P(set2) = {Pset2}\")    \n",
    "    Op= Pset1 + Pset2 - PInterseccion\n",
    "    if(PUnion == round(Op,2)):\n",
    "       return f\"Se cumple la regla de la adicion, P(set1 U set2) =  P(set1) + P(set2) - P(set1 Ո set2), {PUnion} = {round(Op,2)}\"\n",
    "    else:\n",
    "       return f\"No se cumple la regla de la adicion, P(set1 U set2) !=  P(set1) + P(set2) - P(set1 Ո set2), {PUnion} != {round(Op,2)}\"\n",
    "\n",
    "cartas = crearCartas()\n",
    "set1, set2 = crearSubSets(cartas)\n",
    "print(\"Verificando regla del producto\")\n",
    "print()\n",
    "print(validarRegladelProducto(set1,set2,cartas))\n",
    "print()\n",
    "print(\"Verificando regla de la adicion\")\n",
    "print()\n",
    "print(validarRegladelaAdicion(set1,set2,cartas))"
   ]
  },
  {
   "cell_type": "code",
   "execution_count": null,
   "id": "c0b7faf3-f970-4ff3-9f7b-f82ebac9e495",
   "metadata": {},
   "outputs": [],
   "source": []
  }
 ],
 "metadata": {
  "kernelspec": {
   "display_name": "Python 3 (ipykernel)",
   "language": "python",
   "name": "python3"
  },
  "language_info": {
   "codemirror_mode": {
    "name": "ipython",
    "version": 3
   },
   "file_extension": ".py",
   "mimetype": "text/x-python",
   "name": "python",
   "nbconvert_exporter": "python",
   "pygments_lexer": "ipython3",
   "version": "3.11.5"
  }
 },
 "nbformat": 4,
 "nbformat_minor": 5
}
